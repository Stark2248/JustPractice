{
 "cells": [
  {
   "cell_type": "code",
   "execution_count": 4,
   "metadata": {},
   "outputs": [
    {
     "name": "stdout",
     "output_type": "stream",
     "text": [
      "Enter Source:xyz\n",
      "Enter Target:xzyxz\n",
      "3\n"
     ]
    }
   ],
   "source": [
    "def minsub(source,target):\n",
    "    output=0\n",
    "    temp=target\n",
    "    while len(temp)>0:\n",
    "        sub=\"\"\n",
    "        i=0\n",
    "        j=0\n",
    "        while i<len(source) and j<len(temp):\n",
    "            if source[i]==temp[j]:\n",
    "                sub=sub+temp[j]\n",
    "                j=j+1\n",
    "            i=i+1\n",
    "        if sub==\"\":\n",
    "            return -1\n",
    "        output=output+1\n",
    "        temp=temp[len(sub):]\n",
    "    return output\n",
    "\n",
    "source=input(\"Enter Source:\")\n",
    "target=input(\"Enter Target:\")\n",
    "print(minsub(source,target))\n",
    "            "
   ]
  }
 ],
 "metadata": {
  "kernelspec": {
   "display_name": "Python 3",
   "language": "python",
   "name": "python3"
  },
  "language_info": {
   "codemirror_mode": {
    "name": "ipython",
    "version": 3
   },
   "file_extension": ".py",
   "mimetype": "text/x-python",
   "name": "python",
   "nbconvert_exporter": "python",
   "pygments_lexer": "ipython3",
   "version": "3.7.3"
  }
 },
 "nbformat": 4,
 "nbformat_minor": 2
}
