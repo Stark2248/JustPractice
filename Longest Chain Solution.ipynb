{
 "cells": [
  {
   "cell_type": "code",
   "execution_count": 54,
   "metadata": {},
   "outputs": [
    {
     "name": "stdout",
     "output_type": "stream",
     "text": [
      "Enter Words Sequences:a,b,ba,bca,bda,bdca\n"
     ]
    }
   ],
   "source": [
    "s=input(\"Enter Words Sequences:\")\n",
    "w=s.split(',')"
   ]
  },
  {
   "cell_type": "code",
   "execution_count": 55,
   "metadata": {},
   "outputs": [],
   "source": [
    "def longest_chain(w):\n",
    "    words = set()\n",
    "    for word in w:\n",
    "        words.add(word)\n",
    "    mchain = 0\n",
    "    for word in words:\n",
    "        mcandidate = flc(word, words, 0,[0])\n",
    "        mchain = max(mcandidate, mchain)\n",
    "    return mchain\n",
    "\n",
    "def flc(word, words, c_chain, mchain):\n",
    "    if word not in words:\n",
    "        return 0\n",
    "    c_chain += 1\n",
    "    mchain[0] = c_chain\n",
    "    for i in range(len(word)):\n",
    "        new_word = word[:i] + word[i+1:]\n",
    "        flc(new_word, words, c_chain, mchain)\n",
    "    return mchain[0]\n"
   ]
  },
  {
   "cell_type": "code",
   "execution_count": 56,
   "metadata": {},
   "outputs": [
    {
     "name": "stdout",
     "output_type": "stream",
     "text": [
      "4\n"
     ]
    }
   ],
   "source": [
    "output=longest_chain(w)\n",
    "print(output)"
   ]
  },
  {
   "cell_type": "code",
   "execution_count": null,
   "metadata": {},
   "outputs": [],
   "source": []
  }
 ],
 "metadata": {
  "kernelspec": {
   "display_name": "Python 3",
   "language": "python",
   "name": "python3"
  },
  "language_info": {
   "codemirror_mode": {
    "name": "ipython",
    "version": 3
   },
   "file_extension": ".py",
   "mimetype": "text/x-python",
   "name": "python",
   "nbconvert_exporter": "python",
   "pygments_lexer": "ipython3",
   "version": "3.7.3"
  }
 },
 "nbformat": 4,
 "nbformat_minor": 2
}
