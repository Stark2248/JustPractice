{
 "cells": [
  {
   "cell_type": "code",
   "execution_count": 31,
   "metadata": {},
   "outputs": [
    {
     "name": "stdout",
     "output_type": "stream",
     "text": [
      "Enter no of Rows:4\n",
      "1,0,0,1,0\n",
      "0,0,1,0,1\n",
      "0,0,0,1,0\n",
      "1,0,1,0,1\n"
     ]
    }
   ],
   "source": [
    "n=int(input(\"Enter no of Rows:\"))\n",
    "i=0\n",
    "l=[]\n",
    "if n==1:\n",
    "    print(\"o=0\")\n",
    "\n",
    "for i in range(0,n):\n",
    "    s=input()\n",
    "    st=list(map(int,s.split(\",\")))\n",
    "    l.append(st)"
   ]
  },
  {
   "cell_type": "code",
   "execution_count": 32,
   "metadata": {},
   "outputs": [
    {
     "name": "stdout",
     "output_type": "stream",
     "text": [
      "o=1\n"
     ]
    }
   ],
   "source": [
    "f=0\n",
    "o=0\n",
    "if len(l[0])==1:\n",
    "    o=0\n",
    "else:\n",
    "    for i in range(0,len(l)):\n",
    "        for j in range(i+1,len(l)):\n",
    "            for c in range(0,len(l[0])):\n",
    "                if l[i][c]==1 and l[j][c]==1:\n",
    "                    f=f+1\n",
    "            if f>=2:\n",
    "                o=o+pow(3,f-2)\n",
    "            f=0\n",
    "print(\"o=\"+str(o))"
   ]
  },
  {
   "cell_type": "code",
   "execution_count": null,
   "metadata": {},
   "outputs": [],
   "source": []
  }
 ],
 "metadata": {
  "kernelspec": {
   "display_name": "Python 3",
   "language": "python",
   "name": "python3"
  },
  "language_info": {
   "codemirror_mode": {
    "name": "ipython",
    "version": 3
   },
   "file_extension": ".py",
   "mimetype": "text/x-python",
   "name": "python",
   "nbconvert_exporter": "python",
   "pygments_lexer": "ipython3",
   "version": "3.7.3"
  }
 },
 "nbformat": 4,
 "nbformat_minor": 2
}
