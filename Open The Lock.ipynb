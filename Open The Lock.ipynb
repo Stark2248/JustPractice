{
 "cells": [
  {
   "cell_type": "code",
   "execution_count": null,
   "metadata": {},
   "outputs": [
    {
     "name": "stdout",
     "output_type": "stream",
     "text": [
      "0201,0101,0102,1212,2002\n",
      "0202\n",
      "6\n"
     ]
    }
   ],
   "source": [
    "s=input()\n",
    "deadend=s.split(',')\n",
    "target=input()\n",
    "visited=[]\n",
    "queue=[]\n",
    "visited.append(\"0000\")\n",
    "queue.append(\"0000\")\n",
    "output=0\n",
    "flag=False\n",
    "while queue:\n",
    "    size=len(queue)\n",
    "    while size>0:\n",
    "        pos=queue.pop(0)\n",
    "        if pos in deadend:\n",
    "            size=size-1\n",
    "            continue\n",
    "        if pos==target:\n",
    "            flag=True\n",
    "            print(output)\n",
    "        sb=pos\n",
    "        for i in range(0,4):\n",
    "            cur=sb[i]\n",
    "            if cur=='9':\n",
    "                rp=0\n",
    "            else:\n",
    "                rp=int(cur)+1\n",
    "            if cur=='0':\n",
    "                rp1=9\n",
    "            else:\n",
    "                rp1=int(cur)-1\n",
    "            s1=sb[0:i]+str(rp)+sb[i+1:]\n",
    "            s2=sb[0:i]+str(rp1)+sb[i+1:]\n",
    "            if s1 not in deadend and s1 not in visited:\n",
    "                queue.append(s1)\n",
    "                visited.append(s1)\n",
    "            if s2 not in deadend and s2 not in visited:\n",
    "                queue.append(s2)\n",
    "                visited.append(s2)\n",
    "        size=size-1\n",
    "    output=output+1\n",
    "if flag==False:\n",
    "    print(-1)\n",
    "            "
   ]
  },
  {
   "cell_type": "code",
   "execution_count": null,
   "metadata": {},
   "outputs": [],
   "source": []
  }
 ],
 "metadata": {
  "kernelspec": {
   "display_name": "Python 3",
   "language": "python",
   "name": "python3"
  },
  "language_info": {
   "codemirror_mode": {
    "name": "ipython",
    "version": 3
   },
   "file_extension": ".py",
   "mimetype": "text/x-python",
   "name": "python",
   "nbconvert_exporter": "python",
   "pygments_lexer": "ipython3",
   "version": "3.7.3"
  }
 },
 "nbformat": 4,
 "nbformat_minor": 2
}
