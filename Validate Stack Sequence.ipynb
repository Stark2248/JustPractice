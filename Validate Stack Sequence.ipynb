{
 "cells": [
  {
   "cell_type": "code",
   "execution_count": 29,
   "metadata": {},
   "outputs": [],
   "source": [
    "stack=[]\n",
    "top=-1"
   ]
  },
  {
   "cell_type": "code",
   "execution_count": 30,
   "metadata": {},
   "outputs": [],
   "source": [
    "def pushstk(e):\n",
    "    global top\n",
    "    top=top+1\n",
    "    stack.append(e)"
   ]
  },
  {
   "cell_type": "code",
   "execution_count": 31,
   "metadata": {},
   "outputs": [],
   "source": [
    "def popstk():\n",
    "    global top\n",
    "    e=stack.pop()\n",
    "    top=top-1\n",
    "    return e"
   ]
  },
  {
   "cell_type": "code",
   "execution_count": 32,
   "metadata": {},
   "outputs": [],
   "source": [
    "def checkpopelemennt(e):\n",
    "    global top\n",
    "    if stack[top]==e:\n",
    "        return True\n",
    "    return False"
   ]
  },
  {
   "cell_type": "code",
   "execution_count": 33,
   "metadata": {},
   "outputs": [],
   "source": [
    "def validatesequence(pu,po):\n",
    "    global top\n",
    "    i=0\n",
    "    j=0\n",
    "    for i in range(0,len(pu)):\n",
    "        pushstk(pu[i])\n",
    "        while j<len(po) and checkpopelemennt(po[j])==True:\n",
    "            e=popstk()\n",
    "            j=j+1\n",
    "    if top==-1:\n",
    "        return True\n",
    "    else:\n",
    "        return False"
   ]
  },
  {
   "cell_type": "code",
   "execution_count": 35,
   "metadata": {},
   "outputs": [
    {
     "name": "stdout",
     "output_type": "stream",
     "text": [
      "False\n"
     ]
    }
   ],
   "source": [
    "pu=[1,2,3,4,5]\n",
    "po=[4,3,5,1,2]\n",
    "r=validatesequence(pu,po)\n",
    "print(r)"
   ]
  }
 ],
 "metadata": {
  "kernelspec": {
   "display_name": "Python 3",
   "language": "python",
   "name": "python3"
  },
  "language_info": {
   "codemirror_mode": {
    "name": "ipython",
    "version": 3
   },
   "file_extension": ".py",
   "mimetype": "text/x-python",
   "name": "python",
   "nbconvert_exporter": "python",
   "pygments_lexer": "ipython3",
   "version": "3.7.3"
  }
 },
 "nbformat": 4,
 "nbformat_minor": 2
}
